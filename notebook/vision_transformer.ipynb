{
 "cells": [
  {
   "cell_type": "markdown",
   "metadata": {},
   "source": [
    "# Data"
   ]
  },
  {
   "cell_type": "code",
   "execution_count": null,
   "metadata": {},
   "outputs": [],
   "source": [
    "import tifffile\n",
    "\n",
    "df = df[df.plate==2500060635]\n",
    "print(df.shape)\n",
    "from PIL import Image\n",
    "with tifffile.TiffFile(df.FileName_Merged[0]) as tif:\n",
    "    multichannel_img = tif.asarray().astype(np.float32)\n",
    "    print(multichannel_img.shape)\n",
    "    multichannel_img = multichannel_img.transpose(1,2,0)  \n",
    "    print(multichannel_img.shape)\n",
    "    rgb_image = create_rgb_image(multichannel_img)\n",
    "   \n",
    "    print('reshape dimensions')\n",
    "    rgb_image = rgb_image.transpose(2, 1, 0)  # Transpose to (H, W, C) format\n",
    "    rgb_image = Image.fromarray(rgb_image, mode='RGB')\n",
    "    # print(rgb_image.shape)\n",
    "    print(rgb_image.mode)\n",
    "\n",
    "# plt.imshow(rgb_image)\n",
    "# plt.show()\n",
    "\n"
   ]
  },
  {
   "cell_type": "code",
   "execution_count": null,
   "metadata": {},
   "outputs": [],
   "source": [
    "Patch Embedding"
   ]
  },
  {
   "cell_type": "code",
   "execution_count": null,
   "metadata": {},
   "outputs": [],
   "source": []
  },
  {
   "cell_type": "code",
   "execution_count": null,
   "metadata": {},
   "outputs": [],
   "source": []
  },
  {
   "cell_type": "code",
   "execution_count": null,
   "metadata": {},
   "outputs": [],
   "source": []
  },
  {
   "cell_type": "code",
   "execution_count": null,
   "metadata": {},
   "outputs": [],
   "source": []
  },
  {
   "cell_type": "code",
   "execution_count": null,
   "metadata": {},
   "outputs": [],
   "source": []
  },
  {
   "cell_type": "code",
   "execution_count": null,
   "metadata": {},
   "outputs": [],
   "source": []
  },
  {
   "cell_type": "code",
   "execution_count": null,
   "metadata": {},
   "outputs": [],
   "source": []
  },
  {
   "cell_type": "code",
   "execution_count": null,
   "metadata": {},
   "outputs": [],
   "source": []
  }
 ],
 "metadata": {
  "language_info": {
   "name": "python"
  }
 },
 "nbformat": 4,
 "nbformat_minor": 2
}
